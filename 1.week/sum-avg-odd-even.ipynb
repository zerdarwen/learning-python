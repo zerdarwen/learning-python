{
 "cells": [
  {
   "cell_type": "code",
   "execution_count": 5,
   "id": "c058e566-09ca-401d-8b90-72265faf3bea",
   "metadata": {},
   "outputs": [
    {
     "name": "stdin",
     "output_type": "stream",
     "text": [
      "Please enter a number:  \n"
     ]
    },
    {
     "name": "stdout",
     "output_type": "stream",
     "text": [
      "Empty input is not allowed here!\n"
     ]
    },
    {
     "name": "stdin",
     "output_type": "stream",
     "text": [
      "Please enter a number:  cguykık\n"
     ]
    },
    {
     "name": "stdout",
     "output_type": "stream",
     "text": [
      "Please enter an integer:\n"
     ]
    },
    {
     "name": "stdin",
     "output_type": "stream",
     "text": [
      "Please enter a number:  15\n"
     ]
    },
    {
     "name": "stdout",
     "output_type": "stream",
     "text": [
      "Sum of odd numbers:64.00, Average of odd numbers: 8.00\n",
      "Sum of even numbers: 56.00, Average of even numbers: 7.00\n"
     ]
    }
   ],
   "source": [
    "odd_numbers=[]\n",
    "even_numbers =[]\n",
    "\n",
    "while True:\n",
    "    n = (input(\"Please enter a number: \"))\n",
    "    if n == \"\":\n",
    "        print(\"Empty input is not allowed here!\")\n",
    "    elif n.isdigit() == False:\n",
    "        print(\"Please enter an integer:\")\n",
    "    elif int(n)==0:\n",
    "        print(\"The value of n cannot be zero!\")\n",
    "    else:\n",
    "        break\n",
    "n=int(n)\n",
    "for i in range(0,n+1):\n",
    "   if (i %2==1):\n",
    "       odd_numbers.append(i)\n",
    "   elif (i %2==0):\n",
    "       even_numbers.append(i)\n",
    "\n",
    "o=sum(odd_numbers)\n",
    "e=sum(even_numbers)\n",
    "\n",
    "odd_count=len(odd_numbers)\n",
    "even_count=len(even_numbers)\n",
    "\n",
    "\n",
    "odd_average=o/odd_count\n",
    "even_average=e/even_count\n",
    "\n",
    "print(f\"Sum of odd numbers:{o:.2f}, Average of odd numbers: {odd_average:.2f}\")\n",
    "print(f\"Sum of even numbers: {e:.2f}, Average of even numbers: {even_average:.2f}\")\n"
   ]
  },
  {
   "cell_type": "code",
   "execution_count": null,
   "id": "e0189eb7-702e-439e-97b0-fc13543e6794",
   "metadata": {},
   "outputs": [],
   "source": []
  }
 ],
 "metadata": {
  "kernelspec": {
   "display_name": "Python [conda env:base] *",
   "language": "python",
   "name": "conda-base-py"
  },
  "language_info": {
   "codemirror_mode": {
    "name": "ipython",
    "version": 3
   },
   "file_extension": ".py",
   "mimetype": "text/x-python",
   "name": "python",
   "nbconvert_exporter": "python",
   "pygments_lexer": "ipython3",
   "version": "3.13.5"
  }
 },
 "nbformat": 4,
 "nbformat_minor": 5
}
