{
 "cells": [
  {
   "cell_type": "code",
   "execution_count": 2,
   "id": "7801617b-ed95-4a0a-b34b-0388b5e2cfc3",
   "metadata": {},
   "outputs": [
    {
     "name": "stdin",
     "output_type": "stream",
     "text": [
      "Please enter the number of books you will buy: twenty five \n"
     ]
    },
    {
     "name": "stdout",
     "output_type": "stream",
     "text": [
      "Please enter an integer:\n"
     ]
    },
    {
     "name": "stdin",
     "output_type": "stream",
     "text": [
      "Please enter the number of books you will buy: \n"
     ]
    },
    {
     "name": "stdout",
     "output_type": "stream",
     "text": [
      "This field cannot be left blank!\n"
     ]
    },
    {
     "name": "stdin",
     "output_type": "stream",
     "text": [
      "Please enter the number of books you will buy: 25\n"
     ]
    },
    {
     "name": "stdout",
     "output_type": "stream",
     "text": [
      "total price (before the discount):2500.00\n",
      "amount of discount applied:375.00\n",
      "last price with discount:2125.00\n"
     ]
    }
   ],
   "source": [
    "while True:\n",
    "    quantity = (input(\"Please enter the number of books you will buy:\"))\n",
    "    if quantity == \"\":\n",
    "        print(\"This field cannot be left blank!\")\n",
    "    elif quantity.isdigit() == False:\n",
    "        print(\"Please enter an integer:\")\n",
    "    elif int(quantity)==0:\n",
    "        print(\"The value of quantity cannot be zero!\")\n",
    "    else:\n",
    "        break\n",
    "\n",
    "quantity=int(quantity)\n",
    "book_price= 100\n",
    "total_price=quantity*book_price\n",
    "\n",
    "if (quantity >= 50):\n",
    "   discount_to_apply=0.25\n",
    "elif (quantity>=25):\n",
    "    discount_to_apply=0.15\n",
    "elif (quantity>=10):\n",
    "    discount_to_apply=0.10\n",
    "else:\n",
    "    discount_to_apply=0.0\n",
    "\n",
    "discount_amount=discount_to_apply*total_price\n",
    "discounted_price=total_price-discount_amount\n",
    "\n",
    "print(f\"total price (before the discount):{total_price:.2f}\")\n",
    "print(f\"amount of discount applied:{discount_amount:.2f}\")\n",
    "print( f\"last price with discount:{discounted_price:.2f}\")\n",
    "\n"
   ]
  },
  {
   "cell_type": "code",
   "execution_count": null,
   "id": "26267cbc-a3b4-4288-95b4-fe6f7b6c403e",
   "metadata": {},
   "outputs": [],
   "source": []
  }
 ],
 "metadata": {
  "kernelspec": {
   "display_name": "Python [conda env:base] *",
   "language": "python",
   "name": "conda-base-py"
  },
  "language_info": {
   "codemirror_mode": {
    "name": "ipython",
    "version": 3
   },
   "file_extension": ".py",
   "mimetype": "text/x-python",
   "name": "python",
   "nbconvert_exporter": "python",
   "pygments_lexer": "ipython3",
   "version": "3.13.5"
  }
 },
 "nbformat": 4,
 "nbformat_minor": 5
}
