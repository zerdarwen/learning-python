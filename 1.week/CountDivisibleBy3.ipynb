{
 "cells": [
  {
   "cell_type": "code",
   "execution_count": 5,
   "id": "9af5807d-6429-42b4-9c24-e236756a3fd4",
   "metadata": {},
   "outputs": [
    {
     "name": "stdin",
     "output_type": "stream",
     "text": [
      "Please enter the first number: 10\n",
      "Please enter the second number:  \n"
     ]
    },
    {
     "name": "stdout",
     "output_type": "stream",
     "text": [
      "The second value cannot be empty! \n"
     ]
    },
    {
     "name": "stdin",
     "output_type": "stream",
     "text": [
      "Please enter the second number:  fmoer\n"
     ]
    },
    {
     "name": "stdout",
     "output_type": "stream",
     "text": [
      "Please enter an integer:\n"
     ]
    },
    {
     "name": "stdin",
     "output_type": "stream",
     "text": [
      "Please enter the second number:  100\n"
     ]
    },
    {
     "name": "stdout",
     "output_type": "stream",
     "text": [
      "There are 29 numbers divisible by 3 between a and b.\n"
     ]
    }
   ],
   "source": [
    "def defineB():\n",
    "    while True:\n",
    "        b = input(\"Please enter the second number: \")\n",
    "        if b == \"\":\n",
    "            print(\"The second value cannot be empty! \")\n",
    "        elif b.isdigit() == False:\n",
    "            print(\"Please enter an integer:\")\n",
    "        else:\n",
    "            b = int(b)\n",
    "            break\n",
    "        \n",
    "    if a >= b :\n",
    "        print(\"Second number should be greater than the first one\")\n",
    "        defineB()\n",
    "    return b\n",
    "\n",
    "while True:\n",
    "    a = (input(\"Please enter the first number:\"))\n",
    "    if a == \"\":\n",
    "        print(\"The first value cannot be empty!\")\n",
    "    elif a.isdigit() == False:\n",
    "        print(\"Please enter an integer:\")\n",
    "    else:\n",
    "        break\n",
    "\n",
    "a = int(a)\n",
    "b = defineB()\n",
    "\n",
    "count=0\n",
    "while (a + 3) < b:\n",
    "    if a % 3 == 0:\n",
    "        count += 1\n",
    "        a += 3\n",
    "    else:\n",
    "        a += 1\n",
    "        \n",
    "print(f\"There are {count} numbers divisible by 3 between a and b.\")"
   ]
  },
  {
   "cell_type": "code",
   "execution_count": null,
   "id": "57502a7a-f379-487f-bc76-6649cbee7ae0",
   "metadata": {},
   "outputs": [],
   "source": []
  }
 ],
 "metadata": {
  "kernelspec": {
   "display_name": "Python [conda env:base] *",
   "language": "python",
   "name": "conda-base-py"
  },
  "language_info": {
   "codemirror_mode": {
    "name": "ipython",
    "version": 3
   },
   "file_extension": ".py",
   "mimetype": "text/x-python",
   "name": "python",
   "nbconvert_exporter": "python",
   "pygments_lexer": "ipython3",
   "version": "3.13.5"
  }
 },
 "nbformat": 4,
 "nbformat_minor": 5
}
