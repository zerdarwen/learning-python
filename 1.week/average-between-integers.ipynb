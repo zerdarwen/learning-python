{
 "cells": [
  {
   "cell_type": "code",
   "execution_count": 1,
   "id": "e51854b2-6a8f-4cd2-81f3-affcf98a2629",
   "metadata": {},
   "outputs": [
    {
     "name": "stdin",
     "output_type": "stream",
     "text": [
      "Please enter the first number:  5\n",
      "Please enter the second number:  fiftten\n"
     ]
    },
    {
     "name": "stdout",
     "output_type": "stream",
     "text": [
      "Please enter an integer:\n"
     ]
    },
    {
     "name": "stdin",
     "output_type": "stream",
     "text": [
      "Please enter the second number:  \n"
     ]
    },
    {
     "name": "stdout",
     "output_type": "stream",
     "text": [
      "The second value cannot be empty! \n"
     ]
    },
    {
     "name": "stdin",
     "output_type": "stream",
     "text": [
      "Please enter the second number:  15\n"
     ]
    },
    {
     "name": "stdout",
     "output_type": "stream",
     "text": [
      "sum: 105\n",
      "range: 10\n",
      "The average of the two entered numbers.: 10.5\n"
     ]
    }
   ],
   "source": [
    "while True:\n",
    "    a = (input(\"Please enter the first number: \"))\n",
    "    if a == \"\":\n",
    "        print(\"The first value cannot be empty.\")\n",
    "    elif a.isdigit() == False:\n",
    "        print(\"Please enter an integer:\")\n",
    "    else:\n",
    "        break\n",
    "        \n",
    "def define_b():\n",
    "    while True:\n",
    "        b = input(\"Please enter the second number: \")\n",
    "        if b == \"\":\n",
    "            print(\"The second value cannot be empty! \")\n",
    "        elif b.isdigit() == False:\n",
    "            print(\"Please enter an integer:\")\n",
    "        else:\n",
    "            b = int(b)\n",
    "            break\n",
    "        \n",
    "    if a >= b :\n",
    "        print(\"Second number should be greater than the first one\")\n",
    "        define_b()\n",
    "    return b\n",
    "\n",
    "a = int(a)\n",
    "b = define_b()\n",
    "\n",
    "t = 0\n",
    "l = 0\n",
    "while True:\n",
    "    if a < b:\n",
    "        a += 1\n",
    "        t += a\n",
    "        l += 1\n",
    "    else:\n",
    "        break\n",
    "\n",
    "#c = (a * (a + 1)) / 2\n",
    "#d = (b * (b + 1)) / 2\n",
    "\n",
    "#l = b - a - 1\n",
    "#t = (d - c) - b \n",
    "print(f\"sum: {t}\")\n",
    "print(f\"range: {l}\")\n",
    "print(f\"The average of the two entered numbers.: {t/l}\")"
   ]
  },
  {
   "cell_type": "code",
   "execution_count": null,
   "id": "1afca28e-d9af-4089-8ee3-1c279625d10b",
   "metadata": {},
   "outputs": [],
   "source": []
  }
 ],
 "metadata": {
  "kernelspec": {
   "display_name": "Python [conda env:base] *",
   "language": "python",
   "name": "conda-base-py"
  },
  "language_info": {
   "codemirror_mode": {
    "name": "ipython",
    "version": 3
   },
   "file_extension": ".py",
   "mimetype": "text/x-python",
   "name": "python",
   "nbconvert_exporter": "python",
   "pygments_lexer": "ipython3",
   "version": "3.13.5"
  }
 },
 "nbformat": 4,
 "nbformat_minor": 5
}
