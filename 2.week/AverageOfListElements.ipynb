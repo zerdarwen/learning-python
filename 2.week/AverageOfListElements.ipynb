{
 "cells": [
  {
   "cell_type": "code",
   "execution_count": 1,
   "id": "88d5b9b7-d4b3-426b-aaae-1ebefb91b737",
   "metadata": {},
   "outputs": [
    {
     "name": "stdin",
     "output_type": "stream",
     "text": [
      "Please enter a number (Press q to exit):  10\n",
      "Please enter a number (Press q to exit):  \n"
     ]
    },
    {
     "name": "stdout",
     "output_type": "stream",
     "text": [
      "This part must not be empty!\n"
     ]
    },
    {
     "name": "stdin",
     "output_type": "stream",
     "text": [
      "Please enter a number (Press q to exit):  gkv\n"
     ]
    },
    {
     "name": "stdout",
     "output_type": "stream",
     "text": [
      "please enter an integer:\n"
     ]
    },
    {
     "name": "stdin",
     "output_type": "stream",
     "text": [
      "Please enter a number (Press q to exit):  5\n",
      "Please enter a number (Press q to exit):  17\n",
      "Please enter a number (Press q to exit):  9\n",
      "Please enter a number (Press q to exit):  q\n"
     ]
    },
    {
     "name": "stdout",
     "output_type": "stream",
     "text": [
      "[10, 5, 17, 9]\n",
      "The average of the numbers in the list is: 10.25\n"
     ]
    }
   ],
   "source": [
    "l=[]\n",
    "while True:\n",
    "    number = input(\"Please enter a number (Press q to exit): \")\n",
    "    if number == 'q':\n",
    "        break\n",
    "    elif number == \"\":\n",
    "            print(\"This part must not be empty!\")\n",
    "    elif number.isdigit() == False:\n",
    "            print(\"please enter an integer:\")\n",
    "    else:\n",
    "        number=int(number)\n",
    "        l.append(number) \n",
    "        \n",
    "def calculate_average(l):\n",
    "    a=sum(l)\n",
    "    b=len(l)\n",
    "    average=a/b\n",
    "    print(f\"The average of the numbers in the list is: {average}\")\n",
    "    \n",
    "print(l)\n",
    "calculate_average(l)"
   ]
  },
  {
   "cell_type": "code",
   "execution_count": null,
   "id": "8cfa4c31-e48b-4019-90b2-1e09d60775f4",
   "metadata": {},
   "outputs": [],
   "source": []
  }
 ],
 "metadata": {
  "kernelspec": {
   "display_name": "Python [conda env:base] *",
   "language": "python",
   "name": "conda-base-py"
  },
  "language_info": {
   "codemirror_mode": {
    "name": "ipython",
    "version": 3
   },
   "file_extension": ".py",
   "mimetype": "text/x-python",
   "name": "python",
   "nbconvert_exporter": "python",
   "pygments_lexer": "ipython3",
   "version": "3.13.5"
  }
 },
 "nbformat": 4,
 "nbformat_minor": 5
}
