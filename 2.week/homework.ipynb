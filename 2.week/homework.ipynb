{
 "cells": [
  {
   "cell_type": "code",
   "execution_count": 15,
   "id": "664d75ce-9715-42c7-a5da-e99bd95f7a56",
   "metadata": {},
   "outputs": [
    {
     "name": "stdin",
     "output_type": "stream",
     "text": [
      "Please enter a valid mathematical calculation:   10 + 9 * 3 / 7\n"
     ]
    },
    {
     "name": "stdout",
     "output_type": "stream",
     "text": [
      "result: 13.857142857142858\n"
     ]
    }
   ],
   "source": [
    "\n",
    "def addition(x: float, y: float) -> float:\n",
    "    return x + y\n",
    "\n",
    "def subtraction(x: float, y: float) -> float:\n",
    "    return x - y\n",
    "\n",
    "def multiplication(x: float, y: float) -> float:\n",
    "    return x * y\n",
    "\n",
    "def division(x: float , y: float) -> float | str:\n",
    "    if y == 0:\n",
    "        return \"Cannot divide by zero\"\n",
    "    return x / y\n",
    "\n",
    "operators = {\n",
    "    \"+\": {\"name\": \"Addition\", \"func\": addition, \"priority\": 1},\n",
    "    \"-\": {\"name\": \"Subtraction\", \"func\": subtraction, \"priority\": 1},\n",
    "    \"*\": {\"name\": \"Multiplication\", \"func\": multiplication, \"priority\": 2},\n",
    "    \"/\": {\"name\": \"Division\", \"func\": division, \"priority\": 2}\n",
    "}\n",
    "\n",
    "def parseOperations(expr: str) -> float | str | bool:\n",
    "    tokens = expr.strip().split()\n",
    "    if len(tokens) < 3:\n",
    "        return False\n",
    "\n",
    "    i = 0\n",
    "    while i < len(tokens):\n",
    "        if tokens[i] in (\"*\", \"/\"):\n",
    "            a = float(tokens[i-1])\n",
    "            b = float(tokens[i+1])\n",
    "            result = operators[tokens[i]][\"func\"](a, b)\n",
    "            if isinstance(result, str):  \n",
    "                return result\n",
    "            tokens[i-1:i+2] = [str(result)]\n",
    "            i = 0  \n",
    "        else:\n",
    "            i += 1\n",
    "\n",
    "    i = 0\n",
    "    while i < len(tokens):\n",
    "        if tokens[i] in (\"+\", \"-\"):\n",
    "            a = float(tokens[i-1])\n",
    "            b = float(tokens[i+1])\n",
    "            result = operators[tokens[i]][\"func\"](a, b)\n",
    "            tokens[i-1:i+2] = [str(result)]\n",
    "            i = 0\n",
    "        else:\n",
    "            i += 1\n",
    "\n",
    "    return float(tokens[0]) if len(tokens) == 1 else False\n",
    "\n",
    "\n",
    "while True:\n",
    "    a=input(\"Please enter a valid mathematical calculation:\")\n",
    "    parsed= parseOperations(a)\n",
    "    if parsed is False:\n",
    "        print(\"invalid input! Please try again.\")\n",
    "        continue\n",
    "    print(f\"result: {parsed}\")\n",
    "    break\n"
   ]
  },
  {
   "cell_type": "code",
   "execution_count": null,
   "id": "be7c130f-6822-46bd-bd3b-69fbdef04244",
   "metadata": {},
   "outputs": [],
   "source": []
  }
 ],
 "metadata": {
  "kernelspec": {
   "display_name": "Python [conda env:base] *",
   "language": "python",
   "name": "conda-base-py"
  },
  "language_info": {
   "codemirror_mode": {
    "name": "ipython",
    "version": 3
   },
   "file_extension": ".py",
   "mimetype": "text/x-python",
   "name": "python",
   "nbconvert_exporter": "python",
   "pygments_lexer": "ipython3",
   "version": "3.13.5"
  }
 },
 "nbformat": 4,
 "nbformat_minor": 5
}
