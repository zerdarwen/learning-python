{
 "cells": [
  {
   "cell_type": "code",
   "execution_count": 1,
   "id": "4beaa99b-ffe7-4f86-bdbe-333caf0676e5",
   "metadata": {},
   "outputs": [
    {
     "name": "stdin",
     "output_type": "stream",
     "text": [
      "Please enter the first number:  4768\n",
      "Please enter the second number:  543\n"
     ]
    },
    {
     "name": "stdout",
     "output_type": "stream",
     "text": [
      "Press the a key to perform '+' \n",
      "Press the s key to perform '-' \n",
      "Press the m key to perform '*' \n",
      "Press the d key to perform '/'\n"
     ]
    },
    {
     "name": "stdin",
     "output_type": "stream",
     "text": [
      "Please select the operation ((Press q to exit)):  d\n"
     ]
    },
    {
     "name": "stdout",
     "output_type": "stream",
     "text": [
      "result:4768/543= 8.78084714548803\n",
      "Press the a key to perform '+' \n",
      "Press the s key to perform '-' \n",
      "Press the m key to perform '*' \n",
      "Press the d key to perform '/'\n"
     ]
    },
    {
     "name": "stdin",
     "output_type": "stream",
     "text": [
      "Please select the operation ((Press q to exit)):  q\n"
     ]
    }
   ],
   "source": [
    "def addition(x,y):\n",
    "    return x+y\n",
    "def subtraction(x,y):\n",
    "    return x-y\n",
    "def multiplication(x,y):\n",
    "    return x*y\n",
    "def division(x,y):\n",
    "    return x/y\n",
    "\n",
    "while True:\n",
    "    while True:\n",
    "        x = input(\"Please enter the first number: \")\n",
    "        if x == \"\":\n",
    "            print(\"Empty input is not allowed here!\")\n",
    "        elif x.isdigit() == False:\n",
    "            print(\"Please enter an integer:\")\n",
    "        else:\n",
    "            break\n",
    "    while True:\n",
    "        y = input(\"Please enter the second number: \")\n",
    "        if y == \"\":\n",
    "            print(\"Empty input is not allowed here!\")\n",
    "        elif y.isdigit() == False:\n",
    "            print(\"Please enter an integer:\")\n",
    "        else:\n",
    "            break\n",
    "    x = int(x)\n",
    "    y = int(y)\n",
    "\n",
    "    while True:\n",
    "        print(\"Press the a key to perform '+'\", '\\n'\n",
    "            \"Press the s key to perform '-'\", '\\n'\n",
    "            \"Press the m key to perform '*'\", '\\n'\n",
    "            \"Press the d key to perform '/'\")\n",
    "\n",
    "        c = input(\"Please select the operation ((Press q to exit)): \")\n",
    "\n",
    "        if c == \"a\":\n",
    "            print( f\"result:{x}+{y}=\",addition(x, y))\n",
    "        elif c == \"s\":\n",
    "            print(f\"result:{x}-{y}=\",subtraction(x,y))\n",
    "        elif c == \"m\":\n",
    "            print(f\"result:{x}*{y}=\",multiplication(x,y)) \n",
    "        elif c == \"d\":\n",
    "            print(f\"result:{x}/{y}=\",division(x,y))\n",
    "        else:\n",
    "            break\n",
    "    if c==\"q\":\n",
    "        break\n"
   ]
  },
  {
   "cell_type": "code",
   "execution_count": null,
   "id": "0afda89a-64ab-4d2a-91b6-d92c43fed7a1",
   "metadata": {},
   "outputs": [],
   "source": []
  }
 ],
 "metadata": {
  "kernelspec": {
   "display_name": "Python [conda env:base] *",
   "language": "python",
   "name": "conda-base-py"
  },
  "language_info": {
   "codemirror_mode": {
    "name": "ipython",
    "version": 3
   },
   "file_extension": ".py",
   "mimetype": "text/x-python",
   "name": "python",
   "nbconvert_exporter": "python",
   "pygments_lexer": "ipython3",
   "version": "3.13.5"
  }
 },
 "nbformat": 4,
 "nbformat_minor": 5
}
