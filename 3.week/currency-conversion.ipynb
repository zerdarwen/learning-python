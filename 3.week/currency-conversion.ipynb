{
 "cells": [
  {
   "cell_type": "code",
   "execution_count": 1,
   "id": "a86f8425-7d1a-4db1-8dda-7ea811a1b190",
   "metadata": {},
   "outputs": [
    {
     "name": "stdout",
     "output_type": "stream",
     "text": [
      "The folder has been created. You can access the data from the folder named ‘Currency Conversion’ created on the desktop.\n",
      "[15:43:51 | 31/08/25] 1 TRY = 0.02431 USD = 0.02081 EUR \n",
      "Next update in: 00:00\n"
     ]
    },
    {
     "name": "stdin",
     "output_type": "stream",
     "text": [
      "Press q to exit or Enter to continue:  \n"
     ]
    },
    {
     "name": "stdout",
     "output_type": "stream",
     "text": [
      "[15:44:59 | 31/08/25] 1 TRY = 0.02431 USD = 0.02081 EUR \n",
      "EUR unchanged\n",
      "USD unchanged\n",
      "Next update in: 00:00\n"
     ]
    },
    {
     "name": "stdin",
     "output_type": "stream",
     "text": [
      "Press q to exit or Enter to continue:  q\n"
     ]
    },
    {
     "name": "stdout",
     "output_type": "stream",
     "text": [
      "Program terminated.\n"
     ]
    }
   ],
   "source": [
    "import os\n",
    "import requests\n",
    "import time \n",
    "\n",
    "desktop = os.path.join(os.path.expanduser(\"~\"), \"Desktop\")\n",
    "folder_path = os.path.join(desktop, \"Curency Conversion\")\n",
    "\n",
    "if not os.path.exists(folder_path):\n",
    "    os.mkdir(folder_path)\n",
    "    print(\"The folder has been created. You can access the data from the folder named ‘Currency Conversion’ created on the desktop.\")\n",
    "elif os.path.exists(folder_path):\n",
    "    print(\"The folder already exists.\")\n",
    "else:\n",
    "    print(\"Folder could not be created.\")\n",
    "\n",
    "file_path = os.path.join(folder_path, \"file-currency.txt\")\n",
    "api_url = \"https://v6.exchangerate-api.com/v6/779b594f9c7fa19573e0813c/latest/TRY\"\n",
    "previous_rates = None  \n",
    "\n",
    "def counter(seconds):\n",
    "    while seconds >= 0:\n",
    "        mn, sc = divmod(seconds, 60)\n",
    "        print(f\"Next update in: {mn:02d}:{sc:02d}\", end=\"\\r\")\n",
    "        time.sleep(1)\n",
    "        seconds -= 1\n",
    "    print() \n",
    "\n",
    "while True:\n",
    "    response = requests.get(api_url)\n",
    "    if response.status_code == 200:\n",
    "        data = response.json()\n",
    "        \n",
    "        rates = data[\"conversion_rates\"]\n",
    "        usd = rates[\"USD\"]\n",
    "        eur = rates[\"EUR\"]\n",
    "        \n",
    "        timestamp = time.strftime(\"[%H:%M:%S | %d/%m/%y]\")\n",
    "        print(timestamp , f\"1 TRY = {usd} USD = {eur} EUR \")\n",
    "\n",
    "        \n",
    "        with open(file_path, \"a\") as file:\n",
    "            file.write(f\"{timestamp} - 1 TRY = {usd} USD | 1 TRY = {eur} EUR\\n\")\n",
    "\n",
    "        if previous_rates:\n",
    "            if eur < previous_rates[\"EUR\"]:\n",
    "                print(\"EUR decreased\")\n",
    "            elif eur > previous_rates[\"EUR\"]:\n",
    "                print(\"EUR increased\")\n",
    "            else:\n",
    "                print(\"EUR unchanged\")\n",
    "\n",
    "            if usd < previous_rates[\"USD\"]:\n",
    "                print(\"USD decreased\")\n",
    "            elif usd > previous_rates[\"USD\"]:\n",
    "                print(\"USD increased\")\n",
    "            else:\n",
    "                print(\"USD unchanged\")\n",
    "\n",
    "        previous_rates = {\"EUR\": eur, \"USD\": usd}  \n",
    "        counter(60)\n",
    "        \n",
    "    else:\n",
    "        print(\"[ERROR] Failed to retrieve data from API!\")\n",
    "\n",
    "    c = input(\"Press q to exit or Enter to continue: \")\n",
    "    if c.lower() == \"q\":\n",
    "        print(\"Program terminated.\")\n",
    "        break\n"
   ]
  },
  {
   "cell_type": "code",
   "execution_count": null,
   "id": "70eee40c-3bd9-46de-ab48-f466dc6277c8",
   "metadata": {},
   "outputs": [],
   "source": []
  }
 ],
 "metadata": {
  "kernelspec": {
   "display_name": "Python [conda env:base] *",
   "language": "python",
   "name": "conda-base-py"
  },
  "language_info": {
   "codemirror_mode": {
    "name": "ipython",
    "version": 3
   },
   "file_extension": ".py",
   "mimetype": "text/x-python",
   "name": "python",
   "nbconvert_exporter": "python",
   "pygments_lexer": "ipython3",
   "version": "3.13.5"
  }
 },
 "nbformat": 4,
 "nbformat_minor": 5
}
