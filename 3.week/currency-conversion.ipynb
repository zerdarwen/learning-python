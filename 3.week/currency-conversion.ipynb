{
 "cells": [
  {
   "cell_type": "code",
   "execution_count": null,
   "id": "7d92104d-f148-4536-a646-a107632c7902",
   "metadata": {},
   "outputs": [
    {
     "name": "stdout",
     "output_type": "stream",
     "text": [
      "1 TRY = 0.02446 USD\n",
      "1 TRY = 0.02091 EUR\n",
      "Data Recorded.\n",
      "\n",
      "1 TRY = 0.02446 USD\n",
      "1 TRY = 0.02091 EUR\n",
      "EUR unchanged\n",
      "USD unchanged\n",
      "Data Recorded.\n",
      "\n"
     ]
    }
   ],
   "source": [
    "import requests\n",
    "import time \n",
    "\n",
    "api_url = \"https://v6.exchangerate-api.com/v6/279077a6bb330041a5511c5b/latest/TRY\"\n",
    "previous_rates = None  \n",
    "\n",
    "while True:\n",
    "    response = requests.get(api_url)\n",
    "    if response.status_code == 200:\n",
    "        data = response.json()\n",
    "\n",
    "        rates = data[\"conversion_rates\"]\n",
    "        usd = rates[\"USD\"]\n",
    "        eur = rates[\"EUR\"]\n",
    "\n",
    "        print(f\"1 TRY = {usd} USD\")\n",
    "        print(f\"1 TRY = {eur} EUR\")\n",
    "\n",
    "        with open(\"file-currency.txt\", \"a\") as file:\n",
    "            file.write(f\"1 TRY = {usd} USD | 1 TRY = {eur} EUR\\n\")\n",
    "\n",
    "        if previous_rates:\n",
    "            if eur < previous_rates[\"EUR\"]:\n",
    "                print(\"EUR decreased\")\n",
    "            elif eur > previous_rates[\"EUR\"]:\n",
    "                print(\"EUR increased\")\n",
    "            else:\n",
    "                print(\"EUR unchanged\")\n",
    "\n",
    "            if usd < previous_rates[\"USD\"]:\n",
    "                print(\"USD decreased\")\n",
    "            elif usd > previous_rates[\"USD\"]:\n",
    "                print(\"USD increased\")\n",
    "            else:\n",
    "                print(\"USD unchanged\")\n",
    "\n",
    "        previous_rates = {\"EUR\": eur, \"USD\": usd}  \n",
    "        print(\"Data Recorded.\\n\")\n",
    "\n",
    "    else:\n",
    "        print(\"No data available :(\")\n",
    "    \n",
    "    time.sleep(60)"
   ]
  },
  {
   "cell_type": "code",
   "execution_count": null,
   "id": "f1c0b24f-fda7-47a8-b20d-505276864e98",
   "metadata": {},
   "outputs": [],
   "source": []
  }
 ],
 "metadata": {
  "kernelspec": {
   "display_name": "Python [conda env:base] *",
   "language": "python",
   "name": "conda-base-py"
  },
  "language_info": {
   "codemirror_mode": {
    "name": "ipython",
    "version": 3
   },
   "file_extension": ".py",
   "mimetype": "text/x-python",
   "name": "python",
   "nbconvert_exporter": "python",
   "pygments_lexer": "ipython3",
   "version": "3.13.5"
  }
 },
 "nbformat": 4,
 "nbformat_minor": 5
}
